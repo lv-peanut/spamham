{
 "cells": [
  {
   "cell_type": "markdown",
   "metadata": {},
   "source": [
    "## Testing the spamham api\n",
    "\n",
    "\n",
    "Run the app.py\n",
    "\n",
    "Make a post request to `api/spamham` with a json data object\n",
    "\n",
    "The api expects a json array of strings\n",
    "\n",
    "And returns a matching array of spam or ham classifications\n",
    "\n",
    "eg., \n",
    "\n",
    "data = [\n",
    "'''\n",
    "Make money from home... http://letty1995.hotsystem.com/main.php check que page and learn more have questions... \n",
    "''',\n",
    "'''\n",
    "Hello Mother’s, how many of your think 🤔 the same ? Mother is the more magnificent diamond, you just need jus a... \n",
    "'''\n",
    "]\n",
    "\n",
    "returns\n",
    "\n",
    "[\n",
    "  \"spam\", \n",
    "  \"ham\"\n",
    "]"
   ]
  },
  {
   "cell_type": "code",
   "execution_count": 1,
   "metadata": {},
   "outputs": [],
   "source": [
    "import requests\n",
    "import json"
   ]
  },
  {
   "cell_type": "code",
   "execution_count": 2,
   "metadata": {},
   "outputs": [],
   "source": [
    "url = 'http://0.0.0.0:5000/api/spamham'"
   ]
  },
  {
   "cell_type": "code",
   "execution_count": null,
   "metadata": {},
   "outputs": [],
   "source": []
  },
  {
   "cell_type": "code",
   "execution_count": 3,
   "metadata": {},
   "outputs": [],
   "source": [
    "data = [\n",
    "'''\n",
    "Make money from home... http://letty1995.hotsystem.com/main.php check que page and learn more have questions... inbot me THE AMBIT Earn More OPPORTUNITY Promote and REGIONAL CONSULTANT SENIOR EXECUTIVE NATIONAL CONSULTANT CONSULTANT CONSULTANT YOU +$55 +$80 $80 $25 $315 $235 $340 $155 $100 $100 $100 $100 $100 $100 $100 $100 UP TO UP TO UP TO $135 $215 $55 $240 UNLIMITED LEVELS UNLIMITED LEVELS UNLIMITED LEVELS UNLIMITED LEVELS\n",
    "''',\n",
    "'''\n",
    "Hello Mother’s, how many of your think 🤔 the same ? Mother is the more magnificent diamond, you just need jus a polish it we learned during the age , day by days, minutes a minute. OMG my mother was right evernthinn about\n",
    "'''\n",
    "]"
   ]
  },
  {
   "cell_type": "code",
   "execution_count": 5,
   "metadata": {},
   "outputs": [
    {
     "name": "stdout",
     "output_type": "stream",
     "text": [
      "[\n",
      "  \"spam\", \n",
      "  \"ham\"\n",
      "]\n",
      "\n"
     ]
    }
   ],
   "source": [
    "j_data = json.dumps(data)\n",
    "headers = {'content-type': 'application/json', 'Accept-Charset': 'UTF-8'}\n",
    "r = requests.post(url, data=j_data, headers=headers)\n",
    "\n",
    "print(r.text)"
   ]
  },
  {
   "cell_type": "code",
   "execution_count": null,
   "metadata": {},
   "outputs": [],
   "source": []
  }
 ],
 "metadata": {
  "kernelspec": {
   "display_name": "venv_peanut",
   "language": "python",
   "name": "venv_peanut"
  },
  "language_info": {
   "codemirror_mode": {
    "name": "ipython",
    "version": 3
   },
   "file_extension": ".py",
   "mimetype": "text/x-python",
   "name": "python",
   "nbconvert_exporter": "python",
   "pygments_lexer": "ipython3",
   "version": "3.7.3"
  }
 },
 "nbformat": 4,
 "nbformat_minor": 2
}
