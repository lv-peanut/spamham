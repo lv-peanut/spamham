{
 "cells": [
  {
   "cell_type": "markdown",
   "metadata": {},
   "source": [
    "This is a rough notebook to explore the data and check for any issues loading the data"
   ]
  },
  {
   "cell_type": "code",
   "execution_count": 1,
   "metadata": {},
   "outputs": [],
   "source": [
    "import pandas as pd"
   ]
  },
  {
   "cell_type": "code",
   "execution_count": 2,
   "metadata": {},
   "outputs": [],
   "source": [
    "pd.set_option('max_colwidth', 500)"
   ]
  },
  {
   "cell_type": "markdown",
   "metadata": {},
   "source": [
    "## load the data"
   ]
  },
  {
   "cell_type": "code",
   "execution_count": 3,
   "metadata": {},
   "outputs": [],
   "source": [
    "data_path = 'data/dataset.csv'"
   ]
  },
  {
   "cell_type": "code",
   "execution_count": 4,
   "metadata": {},
   "outputs": [],
   "source": [
    "df = pd.read_csv(data_path, header=None)\n",
    "df.columns = ['dataset', 'text', 'target']"
   ]
  },
  {
   "cell_type": "code",
   "execution_count": 5,
   "metadata": {},
   "outputs": [
    {
     "name": "stdout",
     "output_type": "stream",
     "text": [
      "7,144 rows\n"
     ]
    }
   ],
   "source": [
    "print(f'{len(df):,} rows')"
   ]
  },
  {
   "cell_type": "code",
   "execution_count": null,
   "metadata": {},
   "outputs": [],
   "source": []
  },
  {
   "cell_type": "markdown",
   "metadata": {},
   "source": [
    "## spot check the the text"
   ]
  },
  {
   "cell_type": "code",
   "execution_count": 6,
   "metadata": {},
   "outputs": [
    {
     "data": {
      "text/html": [
       "<div>\n",
       "<style scoped>\n",
       "    .dataframe tbody tr th:only-of-type {\n",
       "        vertical-align: middle;\n",
       "    }\n",
       "\n",
       "    .dataframe tbody tr th {\n",
       "        vertical-align: top;\n",
       "    }\n",
       "\n",
       "    .dataframe thead th {\n",
       "        text-align: right;\n",
       "    }\n",
       "</style>\n",
       "<table border=\"1\" class=\"dataframe\">\n",
       "  <thead>\n",
       "    <tr style=\"text-align: right;\">\n",
       "      <th></th>\n",
       "      <th>dataset</th>\n",
       "      <th>text</th>\n",
       "      <th>target</th>\n",
       "    </tr>\n",
       "  </thead>\n",
       "  <tbody>\n",
       "    <tr>\n",
       "      <th>0</th>\n",
       "      <td>TRAIN</td>\n",
       "      <td>G.E.M.S Starting a nonprofit organization in the dmv area called G.E.M.S. Coming in 2019 G.E.M.S: Is a nonprofit We are Young Mothers who are working to help mentor and empower young mother / parents and overall youth in our community. We are Young Parents that’s helping our youth through all struggles trails &amp; tribulation to better themselves. •We are here to help those young single moms /parents over come the fear of being young and alone while pregnant •We are here to help youth who need ...</td>\n",
       "      <td>spam</td>\n",
       "    </tr>\n",
       "    <tr>\n",
       "      <th>1</th>\n",
       "      <td>TRAIN</td>\n",
       "      <td>Online Shopping w/ AVON Hello Mommas 😘😘♥️ If you love makeup, clothing, jewelry, shopping &amp; more, Visit my online Avon website!! Make sure to select direct delivery at check out! Message me if you have any questions 💖😘 Shop On! The Link is in the comment below 👇👇👇 O % 19% l Sprint LTE 12:19 AM jovenisse.avonrepresentative.com AVON JOVENISSE REYNOSO Contact Me Shop Now FREE DIRECT DELIVERY with your $40 order NEW COLLECTION SEASIDE GARDENS Sunny days spent in all-American fashion Shop My Stor...</td>\n",
       "      <td>spam</td>\n",
       "    </tr>\n",
       "    <tr>\n",
       "      <th>2</th>\n",
       "      <td>TRAIN</td>\n",
       "      <td>Shop w/ AVON Hello Strong Mommas 😘♥️ If you love makeup, clothing, jewelry, shopping and more, visit my online AVON website!! Choose direct delivery at checkout and feel free to message me with any questions! Many blessings! Click on the link below! 👇👇👇 O % 19% l Sprint LTE 12:19 AM jovenisse.avonrepresentative.com AVON JOVENISSE REYNOSO Contact Me Shop Now FREE DIRECT DELIVERY with your $40 order NEW COLLECTION SEASIDE GARDENS Sunny days spent in all-American fashion Shop My Store» My name ...</td>\n",
       "      <td>spam</td>\n",
       "    </tr>\n",
       "    <tr>\n",
       "      <th>3</th>\n",
       "      <td>TRAIN</td>\n",
       "      <td>Shopping If anyone is into make or jewelry or clothing, send me a message or shop on my online website through AVON. LINK IN THE COMMENT BELOW 👇😘 let PRING TOP TRENDS FOR Campaign 8 Go Wild! Animal-Print Swing Top best-selling Swing Top is back in a cool animal print. Button-front Polyester. Machine wash, line dry Imported. Center back length: 26\" on medium. S(6-8) 271-262 M(10-12) 2781 W .99 CAMPAIGN 8 XL(18) 271-296 Orig. Price $24.99 Center back length: 28\" on 1X. 1X(18W-20W) 271-300 2X(2...</td>\n",
       "      <td>spam</td>\n",
       "    </tr>\n",
       "    <tr>\n",
       "      <th>4</th>\n",
       "      <td>TEST</td>\n",
       "      <td>Make money from home... http://letty1995.hotsystem.com/main.php check que page and learn more have questions... inbot me THE AMBIT Earn More OPPORTUNITY Promote and REGIONAL CONSULTANT SENIOR EXECUTIVE NATIONAL CONSULTANT CONSULTANT CONSULTANT YOU +$55 +$80 $80 $25 $315 $235 $340 $155 $100 $100 $100 $100 $100 $100 $100 $100 UP TO UP TO UP TO $135 $215 $55 $240 UNLIMITED LEVELS UNLIMITED LEVELS UNLIMITED LEVELS UNLIMITED LEVELS</td>\n",
       "      <td>spam</td>\n",
       "    </tr>\n",
       "  </tbody>\n",
       "</table>\n",
       "</div>"
      ],
      "text/plain": [
       "  dataset  \\\n",
       "0   TRAIN   \n",
       "1   TRAIN   \n",
       "2   TRAIN   \n",
       "3   TRAIN   \n",
       "4    TEST   \n",
       "\n",
       "                                                                                                                                                                                                                                                                                                                                                                                                                                                                                                                  text  \\\n",
       "0  G.E.M.S Starting a nonprofit organization in the dmv area called G.E.M.S. Coming in 2019 G.E.M.S: Is a nonprofit We are Young Mothers who are working to help mentor and empower young mother / parents and overall youth in our community. We are Young Parents that’s helping our youth through all struggles trails & tribulation to better themselves. •We are here to help those young single moms /parents over come the fear of being young and alone while pregnant •We are here to help youth who need ...   \n",
       "1  Online Shopping w/ AVON Hello Mommas 😘😘♥️ If you love makeup, clothing, jewelry, shopping & more, Visit my online Avon website!! Make sure to select direct delivery at check out! Message me if you have any questions 💖😘 Shop On! The Link is in the comment below 👇👇👇 O % 19% l Sprint LTE 12:19 AM jovenisse.avonrepresentative.com AVON JOVENISSE REYNOSO Contact Me Shop Now FREE DIRECT DELIVERY with your $40 order NEW COLLECTION SEASIDE GARDENS Sunny days spent in all-American fashion Shop My Stor...   \n",
       "2  Shop w/ AVON Hello Strong Mommas 😘♥️ If you love makeup, clothing, jewelry, shopping and more, visit my online AVON website!! Choose direct delivery at checkout and feel free to message me with any questions! Many blessings! Click on the link below! 👇👇👇 O % 19% l Sprint LTE 12:19 AM jovenisse.avonrepresentative.com AVON JOVENISSE REYNOSO Contact Me Shop Now FREE DIRECT DELIVERY with your $40 order NEW COLLECTION SEASIDE GARDENS Sunny days spent in all-American fashion Shop My Store» My name ...   \n",
       "3  Shopping If anyone is into make or jewelry or clothing, send me a message or shop on my online website through AVON. LINK IN THE COMMENT BELOW 👇😘 let PRING TOP TRENDS FOR Campaign 8 Go Wild! Animal-Print Swing Top best-selling Swing Top is back in a cool animal print. Button-front Polyester. Machine wash, line dry Imported. Center back length: 26\" on medium. S(6-8) 271-262 M(10-12) 2781 W .99 CAMPAIGN 8 XL(18) 271-296 Orig. Price $24.99 Center back length: 28\" on 1X. 1X(18W-20W) 271-300 2X(2...   \n",
       "4                                                                      Make money from home... http://letty1995.hotsystem.com/main.php check que page and learn more have questions... inbot me THE AMBIT Earn More OPPORTUNITY Promote and REGIONAL CONSULTANT SENIOR EXECUTIVE NATIONAL CONSULTANT CONSULTANT CONSULTANT YOU +$55 +$80 $80 $25 $315 $235 $340 $155 $100 $100 $100 $100 $100 $100 $100 $100 UP TO UP TO UP TO $135 $215 $55 $240 UNLIMITED LEVELS UNLIMITED LEVELS UNLIMITED LEVELS UNLIMITED LEVELS    \n",
       "\n",
       "  target  \n",
       "0   spam  \n",
       "1   spam  \n",
       "2   spam  \n",
       "3   spam  \n",
       "4   spam  "
      ]
     },
     "execution_count": 6,
     "metadata": {},
     "output_type": "execute_result"
    }
   ],
   "source": [
    "df.head()"
   ]
  },
  {
   "cell_type": "code",
   "execution_count": 8,
   "metadata": {},
   "outputs": [],
   "source": [
    "# df"
   ]
  },
  {
   "cell_type": "code",
   "execution_count": null,
   "metadata": {},
   "outputs": [],
   "source": []
  },
  {
   "cell_type": "code",
   "execution_count": null,
   "metadata": {},
   "outputs": [],
   "source": []
  },
  {
   "cell_type": "markdown",
   "metadata": {},
   "source": [
    "## get the break down of spam and ham by dataset type"
   ]
  },
  {
   "cell_type": "code",
   "execution_count": 9,
   "metadata": {},
   "outputs": [
    {
     "data": {
      "text/html": [
       "<div>\n",
       "<style scoped>\n",
       "    .dataframe tbody tr th:only-of-type {\n",
       "        vertical-align: middle;\n",
       "    }\n",
       "\n",
       "    .dataframe tbody tr th {\n",
       "        vertical-align: top;\n",
       "    }\n",
       "\n",
       "    .dataframe thead th {\n",
       "        text-align: right;\n",
       "    }\n",
       "</style>\n",
       "<table border=\"1\" class=\"dataframe\">\n",
       "  <thead>\n",
       "    <tr style=\"text-align: right;\">\n",
       "      <th></th>\n",
       "      <th>dataset</th>\n",
       "      <th>target</th>\n",
       "      <th>text</th>\n",
       "      <th>total</th>\n",
       "      <th>pct</th>\n",
       "    </tr>\n",
       "  </thead>\n",
       "  <tbody>\n",
       "    <tr>\n",
       "      <th>0</th>\n",
       "      <td>TEST</td>\n",
       "      <td>ham</td>\n",
       "      <td>402</td>\n",
       "      <td>1443</td>\n",
       "      <td>0.278586</td>\n",
       "    </tr>\n",
       "    <tr>\n",
       "      <th>1</th>\n",
       "      <td>TEST</td>\n",
       "      <td>spam</td>\n",
       "      <td>1041</td>\n",
       "      <td>1443</td>\n",
       "      <td>0.721414</td>\n",
       "    </tr>\n",
       "    <tr>\n",
       "      <th>2</th>\n",
       "      <td>TRAIN</td>\n",
       "      <td>ham</td>\n",
       "      <td>1296</td>\n",
       "      <td>5015</td>\n",
       "      <td>0.258425</td>\n",
       "    </tr>\n",
       "    <tr>\n",
       "      <th>3</th>\n",
       "      <td>TRAIN</td>\n",
       "      <td>spam</td>\n",
       "      <td>3719</td>\n",
       "      <td>5015</td>\n",
       "      <td>0.741575</td>\n",
       "    </tr>\n",
       "    <tr>\n",
       "      <th>4</th>\n",
       "      <td>VALIDATION</td>\n",
       "      <td>ham</td>\n",
       "      <td>200</td>\n",
       "      <td>686</td>\n",
       "      <td>0.291545</td>\n",
       "    </tr>\n",
       "    <tr>\n",
       "      <th>5</th>\n",
       "      <td>VALIDATION</td>\n",
       "      <td>spam</td>\n",
       "      <td>486</td>\n",
       "      <td>686</td>\n",
       "      <td>0.708455</td>\n",
       "    </tr>\n",
       "  </tbody>\n",
       "</table>\n",
       "</div>"
      ],
      "text/plain": [
       "      dataset target  text  total       pct\n",
       "0        TEST    ham   402   1443  0.278586\n",
       "1        TEST   spam  1041   1443  0.721414\n",
       "2       TRAIN    ham  1296   5015  0.258425\n",
       "3       TRAIN   spam  3719   5015  0.741575\n",
       "4  VALIDATION    ham   200    686  0.291545\n",
       "5  VALIDATION   spam   486    686  0.708455"
      ]
     },
     "execution_count": 9,
     "metadata": {},
     "output_type": "execute_result"
    }
   ],
   "source": [
    "df_counts = df.groupby(['dataset', 'target']).text.count().reset_index()\n",
    "\n",
    "df_counts['total'] = df_counts.groupby('dataset').text.transform(sum)\n",
    "\n",
    "df_counts['pct'] = df_counts.text / df_counts.total\n",
    "\n",
    "df_counts"
   ]
  },
  {
   "cell_type": "code",
   "execution_count": 10,
   "metadata": {},
   "outputs": [
    {
     "data": {
      "text/plain": [
       "'5,015 training posts'"
      ]
     },
     "execution_count": 10,
     "metadata": {},
     "output_type": "execute_result"
    }
   ],
   "source": [
    "train_text = df.loc[df.dataset=='TRAIN'].text.values\n",
    "f'{len(train_text):,} training posts'"
   ]
  },
  {
   "cell_type": "code",
   "execution_count": 11,
   "metadata": {},
   "outputs": [
    {
     "data": {
      "text/plain": [
       "'G.E.M.S Starting a nonprofit organization in the dmv area called G.E.M.S. Coming in 2019 G.E.M.S: Is a nonprofit We are Young Mothers who are working to help mentor and empower young mother / parents and overall youth in our community. We are Young Parents that’s helping our youth through all struggles trails & tribulation to better themselves. •We are here to help those young single moms /parents over come the fear of being young and alone while pregnant •We are here to help youth who need someone around here around their age to help with there self esteem And much more Once we get established better we will help our community youth ages 12-24... https://m.facebook.com/groups/454791148285085 #GEMS💎 Follow us on Twitter @gemselite2 And coming soon to instagram And many more will keep you updated QUEENDOM gtbs feei '"
      ]
     },
     "execution_count": 11,
     "metadata": {},
     "output_type": "execute_result"
    }
   ],
   "source": [
    "train_text[0]"
   ]
  },
  {
   "cell_type": "code",
   "execution_count": null,
   "metadata": {},
   "outputs": [],
   "source": []
  },
  {
   "cell_type": "code",
   "execution_count": null,
   "metadata": {},
   "outputs": [],
   "source": []
  },
  {
   "cell_type": "code",
   "execution_count": 12,
   "metadata": {},
   "outputs": [],
   "source": [
    "from nltk.tokenize import word_tokenize\n",
    "from nltk.corpus import stopwords\n",
    "from collections import Counter"
   ]
  },
  {
   "cell_type": "code",
   "execution_count": 13,
   "metadata": {},
   "outputs": [],
   "source": [
    "stop_words = set(stopwords.words('english')) "
   ]
  },
  {
   "cell_type": "code",
   "execution_count": 14,
   "metadata": {},
   "outputs": [],
   "source": [
    "word_frequency = Counter()\n",
    "doc_frequency = Counter()\n",
    "\n",
    "for t in train_text:\n",
    "    \n",
    "    words = word_tokenize(t.lower())\n",
    "    \n",
    "#     words = [w for w in words if w not in stop_words]\n",
    "    \n",
    "    word_frequency.update(words)\n",
    "    doc_frequency.update(set(words))\n",
    "\n",
    "    "
   ]
  },
  {
   "cell_type": "code",
   "execution_count": 15,
   "metadata": {},
   "outputs": [
    {
     "data": {
      "text/plain": [
       "28226"
      ]
     },
     "execution_count": 15,
     "metadata": {},
     "output_type": "execute_result"
    }
   ],
   "source": [
    "len(word_frequency)"
   ]
  },
  {
   "cell_type": "code",
   "execution_count": 16,
   "metadata": {},
   "outputs": [],
   "source": [
    "# word_frequency"
   ]
  },
  {
   "cell_type": "code",
   "execution_count": 17,
   "metadata": {},
   "outputs": [],
   "source": [
    "# doc_frequency"
   ]
  },
  {
   "cell_type": "code",
   "execution_count": 19,
   "metadata": {},
   "outputs": [
    {
     "data": {
      "text/plain": [
       "[('.', 11927),\n",
       " ('i', 11541),\n",
       " ('to', 10593),\n",
       " ('and', 9633),\n",
       " (',', 9010),\n",
       " ('!', 8713),\n",
       " ('a', 8091),\n",
       " ('the', 6458),\n",
       " ('for', 5817),\n",
       " ('you', 5551),\n",
       " ('’', 5414),\n",
       " ('my', 4451),\n",
       " ('in', 4012),\n",
       " ('of', 3944),\n",
       " ('it', 3268),\n",
       " ('is', 3199),\n",
       " ('?', 3197),\n",
       " ('me', 3140),\n",
       " ('with', 2937),\n",
       " ('have', 2908),\n",
       " ('if', 2661),\n",
       " (':', 2556),\n",
       " ('on', 2498),\n",
       " ('or', 2341),\n",
       " ('your', 2320),\n",
       " ('this', 2189),\n",
       " ('$', 2137),\n",
       " ('be', 2089),\n",
       " ('that', 2010),\n",
       " (')', 1894)]"
      ]
     },
     "execution_count": 19,
     "metadata": {},
     "output_type": "execute_result"
    }
   ],
   "source": [
    "word_frequency.most_common(30)"
   ]
  },
  {
   "cell_type": "code",
   "execution_count": 20,
   "metadata": {},
   "outputs": [],
   "source": [
    "# word_frequency.most_common()[:-500-1:-1]"
   ]
  },
  {
   "cell_type": "code",
   "execution_count": 21,
   "metadata": {},
   "outputs": [],
   "source": [
    "# doc_frequency.most_common()"
   ]
  },
  {
   "cell_type": "code",
   "execution_count": 22,
   "metadata": {},
   "outputs": [],
   "source": [
    "import seaborn as sns"
   ]
  },
  {
   "cell_type": "code",
   "execution_count": 23,
   "metadata": {},
   "outputs": [],
   "source": [
    "word_df = pd.DataFrame(data={'word':list(word_frequency.keys()), 'frequency':list(word_frequency.values())})"
   ]
  },
  {
   "cell_type": "code",
   "execution_count": 24,
   "metadata": {},
   "outputs": [],
   "source": [
    "# word_df.frequency.value_counts()[:30]"
   ]
  },
  {
   "cell_type": "markdown",
   "metadata": {},
   "source": [
    "## distribution of word frequencies"
   ]
  },
  {
   "cell_type": "code",
   "execution_count": 25,
   "metadata": {},
   "outputs": [
    {
     "data": {
      "text/plain": [
       "<matplotlib.axes._subplots.AxesSubplot at 0x1a1af10908>"
      ]
     },
     "execution_count": 25,
     "metadata": {},
     "output_type": "execute_result"
    },
    {
     "data": {
      "image/png": "[encoded data removed]",
      "text/plain": [
       "<Figure size 432x288 with 1 Axes>"
      ]
     },
     "metadata": {
      "needs_background": "light"
     },
     "output_type": "display_data"
    }
   ],
   "source": [
    "sns.distplot(word_df.loc[(word_df.frequency>10)&(word_df.frequency<4000)].frequency, bins=20, kde=False)"
   ]
  },
  {
   "cell_type": "code",
   "execution_count": null,
   "metadata": {},
   "outputs": [],
   "source": []
  },
  {
   "cell_type": "code",
   "execution_count": 26,
   "metadata": {},
   "outputs": [
    {
     "data": {
      "text/plain": [
       "855"
      ]
     },
     "execution_count": 26,
     "metadata": {},
     "output_type": "execute_result"
    }
   ],
   "source": [
    "# count of numeric words\n",
    "len([w for w in word_frequency.keys() if w.isnumeric()])"
   ]
  },
  {
   "cell_type": "code",
   "execution_count": null,
   "metadata": {},
   "outputs": [],
   "source": []
  },
  {
   "cell_type": "markdown",
   "metadata": {},
   "source": [
    "## distribution of post lengths"
   ]
  },
  {
   "cell_type": "code",
   "execution_count": 27,
   "metadata": {},
   "outputs": [],
   "source": [
    "df['text_length'] = df.text.str.len()"
   ]
  },
  {
   "cell_type": "code",
   "execution_count": 28,
   "metadata": {},
   "outputs": [
    {
     "data": {
      "text/html": [
       "<div>\n",
       "<style scoped>\n",
       "    .dataframe tbody tr th:only-of-type {\n",
       "        vertical-align: middle;\n",
       "    }\n",
       "\n",
       "    .dataframe tbody tr th {\n",
       "        vertical-align: top;\n",
       "    }\n",
       "\n",
       "    .dataframe thead th {\n",
       "        text-align: right;\n",
       "    }\n",
       "</style>\n",
       "<table border=\"1\" class=\"dataframe\">\n",
       "  <thead>\n",
       "    <tr style=\"text-align: right;\">\n",
       "      <th></th>\n",
       "      <th>dataset</th>\n",
       "      <th>text</th>\n",
       "      <th>target</th>\n",
       "      <th>text_length</th>\n",
       "    </tr>\n",
       "  </thead>\n",
       "  <tbody>\n",
       "    <tr>\n",
       "      <th>0</th>\n",
       "      <td>TRAIN</td>\n",
       "      <td>G.E.M.S Starting a nonprofit organization in the dmv area called G.E.M.S. Coming in 2019 G.E.M.S: Is a nonprofit We are Young Mothers who are working to help mentor and empower young mother / parents and overall youth in our community. We are Young Parents that’s helping our youth through all struggles trails &amp; tribulation to better themselves. •We are here to help those young single moms /parents over come the fear of being young and alone while pregnant •We are here to help youth who need ...</td>\n",
       "      <td>spam</td>\n",
       "      <td>826</td>\n",
       "    </tr>\n",
       "    <tr>\n",
       "      <th>1</th>\n",
       "      <td>TRAIN</td>\n",
       "      <td>Online Shopping w/ AVON Hello Mommas 😘😘♥️ If you love makeup, clothing, jewelry, shopping &amp; more, Visit my online Avon website!! Make sure to select direct delivery at check out! Message me if you have any questions 💖😘 Shop On! The Link is in the comment below 👇👇👇 O % 19% l Sprint LTE 12:19 AM jovenisse.avonrepresentative.com AVON JOVENISSE REYNOSO Contact Me Shop Now FREE DIRECT DELIVERY with your $40 order NEW COLLECTION SEASIDE GARDENS Sunny days spent in all-American fashion Shop My Stor...</td>\n",
       "      <td>spam</td>\n",
       "      <td>824</td>\n",
       "    </tr>\n",
       "    <tr>\n",
       "      <th>2</th>\n",
       "      <td>TRAIN</td>\n",
       "      <td>Shop w/ AVON Hello Strong Mommas 😘♥️ If you love makeup, clothing, jewelry, shopping and more, visit my online AVON website!! Choose direct delivery at checkout and feel free to message me with any questions! Many blessings! Click on the link below! 👇👇👇 O % 19% l Sprint LTE 12:19 AM jovenisse.avonrepresentative.com AVON JOVENISSE REYNOSO Contact Me Shop Now FREE DIRECT DELIVERY with your $40 order NEW COLLECTION SEASIDE GARDENS Sunny days spent in all-American fashion Shop My Store» My name ...</td>\n",
       "      <td>spam</td>\n",
       "      <td>813</td>\n",
       "    </tr>\n",
       "    <tr>\n",
       "      <th>3</th>\n",
       "      <td>TRAIN</td>\n",
       "      <td>Shopping If anyone is into make or jewelry or clothing, send me a message or shop on my online website through AVON. LINK IN THE COMMENT BELOW 👇😘 let PRING TOP TRENDS FOR Campaign 8 Go Wild! Animal-Print Swing Top best-selling Swing Top is back in a cool animal print. Button-front Polyester. Machine wash, line dry Imported. Center back length: 26\" on medium. S(6-8) 271-262 M(10-12) 2781 W .99 CAMPAIGN 8 XL(18) 271-296 Orig. Price $24.99 Center back length: 28\" on 1X. 1X(18W-20W) 271-300 2X(2...</td>\n",
       "      <td>spam</td>\n",
       "      <td>628</td>\n",
       "    </tr>\n",
       "    <tr>\n",
       "      <th>4</th>\n",
       "      <td>TEST</td>\n",
       "      <td>Make money from home... http://letty1995.hotsystem.com/main.php check que page and learn more have questions... inbot me THE AMBIT Earn More OPPORTUNITY Promote and REGIONAL CONSULTANT SENIOR EXECUTIVE NATIONAL CONSULTANT CONSULTANT CONSULTANT YOU +$55 +$80 $80 $25 $315 $235 $340 $155 $100 $100 $100 $100 $100 $100 $100 $100 UP TO UP TO UP TO $135 $215 $55 $240 UNLIMITED LEVELS UNLIMITED LEVELS UNLIMITED LEVELS UNLIMITED LEVELS</td>\n",
       "      <td>spam</td>\n",
       "      <td>431</td>\n",
       "    </tr>\n",
       "  </tbody>\n",
       "</table>\n",
       "</div>"
      ],
      "text/plain": [
       "  dataset  \\\n",
       "0   TRAIN   \n",
       "1   TRAIN   \n",
       "2   TRAIN   \n",
       "3   TRAIN   \n",
       "4    TEST   \n",
       "\n",
       "                                                                                                                                                                                                                                                                                                                                                                                                                                                                                                                  text  \\\n",
       "0  G.E.M.S Starting a nonprofit organization in the dmv area called G.E.M.S. Coming in 2019 G.E.M.S: Is a nonprofit We are Young Mothers who are working to help mentor and empower young mother / parents and overall youth in our community. We are Young Parents that’s helping our youth through all struggles trails & tribulation to better themselves. •We are here to help those young single moms /parents over come the fear of being young and alone while pregnant •We are here to help youth who need ...   \n",
       "1  Online Shopping w/ AVON Hello Mommas 😘😘♥️ If you love makeup, clothing, jewelry, shopping & more, Visit my online Avon website!! Make sure to select direct delivery at check out! Message me if you have any questions 💖😘 Shop On! The Link is in the comment below 👇👇👇 O % 19% l Sprint LTE 12:19 AM jovenisse.avonrepresentative.com AVON JOVENISSE REYNOSO Contact Me Shop Now FREE DIRECT DELIVERY with your $40 order NEW COLLECTION SEASIDE GARDENS Sunny days spent in all-American fashion Shop My Stor...   \n",
       "2  Shop w/ AVON Hello Strong Mommas 😘♥️ If you love makeup, clothing, jewelry, shopping and more, visit my online AVON website!! Choose direct delivery at checkout and feel free to message me with any questions! Many blessings! Click on the link below! 👇👇👇 O % 19% l Sprint LTE 12:19 AM jovenisse.avonrepresentative.com AVON JOVENISSE REYNOSO Contact Me Shop Now FREE DIRECT DELIVERY with your $40 order NEW COLLECTION SEASIDE GARDENS Sunny days spent in all-American fashion Shop My Store» My name ...   \n",
       "3  Shopping If anyone is into make or jewelry or clothing, send me a message or shop on my online website through AVON. LINK IN THE COMMENT BELOW 👇😘 let PRING TOP TRENDS FOR Campaign 8 Go Wild! Animal-Print Swing Top best-selling Swing Top is back in a cool animal print. Button-front Polyester. Machine wash, line dry Imported. Center back length: 26\" on medium. S(6-8) 271-262 M(10-12) 2781 W .99 CAMPAIGN 8 XL(18) 271-296 Orig. Price $24.99 Center back length: 28\" on 1X. 1X(18W-20W) 271-300 2X(2...   \n",
       "4                                                                      Make money from home... http://letty1995.hotsystem.com/main.php check que page and learn more have questions... inbot me THE AMBIT Earn More OPPORTUNITY Promote and REGIONAL CONSULTANT SENIOR EXECUTIVE NATIONAL CONSULTANT CONSULTANT CONSULTANT YOU +$55 +$80 $80 $25 $315 $235 $340 $155 $100 $100 $100 $100 $100 $100 $100 $100 UP TO UP TO UP TO $135 $215 $55 $240 UNLIMITED LEVELS UNLIMITED LEVELS UNLIMITED LEVELS UNLIMITED LEVELS    \n",
       "\n",
       "  target  text_length  \n",
       "0   spam          826  \n",
       "1   spam          824  \n",
       "2   spam          813  \n",
       "3   spam          628  \n",
       "4   spam          431  "
      ]
     },
     "execution_count": 28,
     "metadata": {},
     "output_type": "execute_result"
    }
   ],
   "source": [
    "df.head()"
   ]
  },
  {
   "cell_type": "code",
   "execution_count": 29,
   "metadata": {},
   "outputs": [
    {
     "data": {
      "text/plain": [
       "<matplotlib.axes._subplots.AxesSubplot at 0x1a1b3bcd68>"
      ]
     },
     "execution_count": 29,
     "metadata": {},
     "output_type": "execute_result"
    },
    {
     "data": {
      "image/png": "[encoded data removed]",
      "text/plain": [
       "<Figure size 432x288 with 1 Axes>"
      ]
     },
     "metadata": {
      "needs_background": "light"
     },
     "output_type": "display_data"
    }
   ],
   "source": [
    "sns.distplot(df.text_length)"
   ]
  },
  {
   "cell_type": "code",
   "execution_count": null,
   "metadata": {},
   "outputs": [],
   "source": [
    "df.text_length.describe()"
   ]
  },
  {
   "cell_type": "code",
   "execution_count": null,
   "metadata": {},
   "outputs": [],
   "source": []
  },
  {
   "cell_type": "code",
   "execution_count": null,
   "metadata": {},
   "outputs": [],
   "source": []
  }
 ],
 "metadata": {
  "kernelspec": {
   "display_name": "Python 3",
   "language": "python",
   "name": "python3"
  },
  "language_info": {
   "codemirror_mode": {
    "name": "ipython",
    "version": 3
   },
   "file_extension": ".py",
   "mimetype": "text/x-python",
   "name": "python",
   "nbconvert_exporter": "python",
   "pygments_lexer": "ipython3",
   "version": "3.7.3"
  }
 },
 "nbformat": 4,
 "nbformat_minor": 2
}
