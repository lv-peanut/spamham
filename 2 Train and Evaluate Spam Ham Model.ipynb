{
 "cells": [
  {
   "cell_type": "markdown",
   "metadata": {},
   "source": [
    "# Exercise 1 Spam Ham binary classifier\n",
    "\n",
    "In this notebook I build and evaluate a Naive Bayes classifier\n",
    "\n",
    "The model first uses the CountVectorize class to extract each post's word counts into a matrix.\n",
    "\n",
    "And then feeds the matrix to the Multinomoal Naive Bayes classifier.\n",
    "\n",
    "* The model was trained on the TRAIN data. \n",
    "* Evaluated on the TEST data trying to optimise precision and recall. I tested a number of variations to optimise these metrics. It was possible to get the accuracy of spam classification fairly high (recall 99% or higher) especially by using ngrams that effectively act as context. But this came at the cost of reducing recall of ham to <50%. In the end I went for a more balanced approach as I was unsure whether it was worse to have false negatives or false positives for spam.\n",
    "* And finally tested on the VALIDATION data\n",
    "\n",
    "Final Results\n",
    "\n",
    "|class | precision | recall | f1-score |\n",
    "|------|-----------|--------|----------|\n",
    "| ham  | 0.77      | 0.74   | 0.76     |\n",
    "| spam | 0.90      | 0.91   | 0.90     |\n",
    "\n"
   ]
  },
  {
   "cell_type": "code",
   "execution_count": 1,
   "metadata": {},
   "outputs": [],
   "source": [
    "import pandas as pd\n",
    "from sklearn.feature_extraction.text import CountVectorizer\n",
    "from sklearn.naive_bayes import MultinomialNB, ComplementNB\n",
    "import numpy as np\n",
    "from collections import Counter\n",
    "\n",
    "from nltk.corpus import stopwords\n",
    "from nltk.stem import PorterStemmer\n",
    "from nltk.tokenize import word_tokenize, TweetTokenizer\n",
    "\n",
    "from sklearn.metrics import classification_report, confusion_matrix"
   ]
  },
  {
   "cell_type": "markdown",
   "metadata": {},
   "source": [
    "## import the data"
   ]
  },
  {
   "cell_type": "code",
   "execution_count": 2,
   "metadata": {},
   "outputs": [],
   "source": [
    "data_path = 'data/dataset.csv'"
   ]
  },
  {
   "cell_type": "code",
   "execution_count": 3,
   "metadata": {},
   "outputs": [],
   "source": [
    "df = pd.read_csv(data_path, header=None)\n",
    "df.columns = ['dataset', 'text', 'spamham'] \n",
    "df['target'] = 0\n",
    "df.loc[df.spamham=='spam', 'target'] = 1 # set ham as 0 and spam as 1"
   ]
  },
  {
   "cell_type": "code",
   "execution_count": 4,
   "metadata": {},
   "outputs": [
    {
     "data": {
      "text/html": [
       "<div>\n",
       "<style scoped>\n",
       "    .dataframe tbody tr th:only-of-type {\n",
       "        vertical-align: middle;\n",
       "    }\n",
       "\n",
       "    .dataframe tbody tr th {\n",
       "        vertical-align: top;\n",
       "    }\n",
       "\n",
       "    .dataframe thead th {\n",
       "        text-align: right;\n",
       "    }\n",
       "</style>\n",
       "<table border=\"1\" class=\"dataframe\">\n",
       "  <thead>\n",
       "    <tr style=\"text-align: right;\">\n",
       "      <th></th>\n",
       "      <th>dataset</th>\n",
       "      <th>text</th>\n",
       "      <th>spamham</th>\n",
       "      <th>target</th>\n",
       "    </tr>\n",
       "  </thead>\n",
       "  <tbody>\n",
       "    <tr>\n",
       "      <th>0</th>\n",
       "      <td>TRAIN</td>\n",
       "      <td>G.E.M.S Starting a nonprofit organization in t...</td>\n",
       "      <td>spam</td>\n",
       "      <td>1</td>\n",
       "    </tr>\n",
       "    <tr>\n",
       "      <th>1</th>\n",
       "      <td>TRAIN</td>\n",
       "      <td>Online Shopping w/ AVON Hello Mommas 😘😘♥️ If y...</td>\n",
       "      <td>spam</td>\n",
       "      <td>1</td>\n",
       "    </tr>\n",
       "    <tr>\n",
       "      <th>2</th>\n",
       "      <td>TRAIN</td>\n",
       "      <td>Shop w/ AVON Hello Strong Mommas 😘♥️ If you lo...</td>\n",
       "      <td>spam</td>\n",
       "      <td>1</td>\n",
       "    </tr>\n",
       "    <tr>\n",
       "      <th>3</th>\n",
       "      <td>TRAIN</td>\n",
       "      <td>Shopping If anyone is into make or jewelry or ...</td>\n",
       "      <td>spam</td>\n",
       "      <td>1</td>\n",
       "    </tr>\n",
       "    <tr>\n",
       "      <th>4</th>\n",
       "      <td>TEST</td>\n",
       "      <td>Make money from home... http://letty1995.hotsy...</td>\n",
       "      <td>spam</td>\n",
       "      <td>1</td>\n",
       "    </tr>\n",
       "  </tbody>\n",
       "</table>\n",
       "</div>"
      ],
      "text/plain": [
       "  dataset                                               text spamham  target\n",
       "0   TRAIN  G.E.M.S Starting a nonprofit organization in t...    spam       1\n",
       "1   TRAIN  Online Shopping w/ AVON Hello Mommas 😘😘♥️ If y...    spam       1\n",
       "2   TRAIN  Shop w/ AVON Hello Strong Mommas 😘♥️ If you lo...    spam       1\n",
       "3   TRAIN  Shopping If anyone is into make or jewelry or ...    spam       1\n",
       "4    TEST  Make money from home... http://letty1995.hotsy...    spam       1"
      ]
     },
     "execution_count": 4,
     "metadata": {},
     "output_type": "execute_result"
    }
   ],
   "source": [
    "df.head()"
   ]
  },
  {
   "cell_type": "markdown",
   "metadata": {},
   "source": [
    "\n",
    "## split out the train test and validate data"
   ]
  },
  {
   "cell_type": "code",
   "execution_count": 5,
   "metadata": {},
   "outputs": [],
   "source": [
    "train_text = df.loc[df.dataset=='TRAIN'].text.values\n",
    "test_text = df.loc[df.dataset=='TEST'].text.values\n",
    "validate_text = df.loc[df.dataset=='VALIDATION'].text.values"
   ]
  },
  {
   "cell_type": "code",
   "execution_count": 6,
   "metadata": {},
   "outputs": [],
   "source": [
    "y_train = df.loc[df.dataset=='TRAIN'].target.values\n",
    "y_test = df.loc[df.dataset=='TEST'].target.values\n",
    "y_validate = df.loc[df.dataset=='VALIDATION'].target.values"
   ]
  },
  {
   "cell_type": "code",
   "execution_count": 7,
   "metadata": {},
   "outputs": [
    {
     "name": "stdout",
     "output_type": "stream",
     "text": [
      "5,015 documents in the training set\n"
     ]
    }
   ],
   "source": [
    "print(f'{len(train_text):,} documents in the training set')"
   ]
  },
  {
   "cell_type": "markdown",
   "metadata": {},
   "source": [
    "## intialise nltk functions to test tokenizer"
   ]
  },
  {
   "cell_type": "code",
   "execution_count": 8,
   "metadata": {},
   "outputs": [],
   "source": [
    "stop_words = set(stopwords.words('english')) "
   ]
  },
  {
   "cell_type": "code",
   "execution_count": 9,
   "metadata": {},
   "outputs": [],
   "source": [
    "porter = PorterStemmer()"
   ]
  },
  {
   "cell_type": "markdown",
   "metadata": {},
   "source": [
    "### choose a tokenizer"
   ]
  },
  {
   "cell_type": "code",
   "execution_count": 10,
   "metadata": {},
   "outputs": [],
   "source": [
    "tokenize = word_tokenize # standard tokenizer\n",
    "\n",
    "# tknzr = TweetTokenizer() # tweet friendly tokenizer -- didn't improve the model\n",
    "# tknzr = TweetTokenizer(preserve_case=False, reduce_len=False)\n",
    "# tokenize = tknzr.tokenize"
   ]
  },
  {
   "cell_type": "markdown",
   "metadata": {},
   "source": [
    "## count word and document frequencies to filter out common and/or rare words"
   ]
  },
  {
   "cell_type": "code",
   "execution_count": 11,
   "metadata": {},
   "outputs": [],
   "source": [
    "word_frequency = Counter()\n",
    "doc_frequency = Counter()\n",
    "\n",
    "for s in train_text:\n",
    "    \n",
    "    words = tokenize(s.lower())\n",
    "    \n",
    "    word_frequency.update(words)\n",
    "    doc_frequency.update(set(words))"
   ]
  },
  {
   "cell_type": "code",
   "execution_count": 12,
   "metadata": {},
   "outputs": [],
   "source": [
    "def tokenizer(s):\n",
    "    \n",
    "    \"\"\"Wrapper tokenizer function to test impact of different approaches\n",
    "    \n",
    "    Inputs\n",
    "    ------\n",
    "    \n",
    "    s : str\n",
    "    \n",
    "    Returns\n",
    "    -------\n",
    "    \n",
    "    tokens : list [str, ]\n",
    "    \"\"\"\n",
    "\n",
    "    tokens =  tokenize(s.lower()) # apply the nltk tokenizer\n",
    "    tokens = [t for t in tokens if doc_frequency[t]>5 and t not in stop_words]# and doc_frequency[t]<3000]\n",
    "    \n",
    "    return tokens"
   ]
  },
  {
   "cell_type": "code",
   "execution_count": 13,
   "metadata": {},
   "outputs": [],
   "source": [
    "# spot check tokenizer\n",
    "# print(test_text[0])\n",
    "# print()\n",
    "# print(tokenizer(test_text[0]))"
   ]
  },
  {
   "cell_type": "markdown",
   "metadata": {},
   "source": [
    "## Build the model"
   ]
  },
  {
   "cell_type": "code",
   "execution_count": 14,
   "metadata": {},
   "outputs": [],
   "source": [
    "# sklearn class to extract and count features/words\n",
    "vectorizer = CountVectorizer(tokenizer=tokenizer) #, ngram_range=(1, 3))#, analyzer='word'), tokenizer=tokenizer)\n",
    "\n",
    "# sklean class to learn conditional proabilites\n",
    "\n",
    "# small gain in accuracy from using unifrom priors - not sure why this works\n",
    "classifier = MultinomialNB(fit_prior=False) \n",
    "\n",
    "## tested alternative bayes model that can work better unbalanced samples\n",
    "## no siginficant improvement \n",
    "# classifier = ComplementNB(fit_prior=False) \n"
   ]
  },
  {
   "cell_type": "code",
   "execution_count": 15,
   "metadata": {},
   "outputs": [
    {
     "data": {
      "text/plain": [
       "MultinomialNB(fit_prior=False)"
      ]
     },
     "execution_count": 15,
     "metadata": {},
     "output_type": "execute_result"
    }
   ],
   "source": [
    "# extract sparse matrix with words as columns and documents as rows\n",
    "# each element is the frequency count of the word in document\n",
    "X_train = vectorizer.fit_transform(train_text)\n",
    "\n",
    "## calculate the conditional proabilties for the train data\n",
    "classifier.fit(X_train, y_train)"
   ]
  },
  {
   "cell_type": "code",
   "execution_count": null,
   "metadata": {},
   "outputs": [],
   "source": []
  },
  {
   "cell_type": "markdown",
   "metadata": {},
   "source": [
    "## Evaluate the model\n",
    "\n",
    "I evaluated the model with precision an recall as there is a 3 to 1 inbalance in the spam ham data.\n",
    "\n",
    "I whether it is worse to allow spam to creep in or to class a user's ham post as spam. So tried to balance the two.\n"
   ]
  },
  {
   "cell_type": "code",
   "execution_count": 16,
   "metadata": {},
   "outputs": [],
   "source": [
    "# apply the model to the test data\n",
    "X_test = vectorizer.transform(test_text)\n",
    "y_pred = classifier.predict(X_test)"
   ]
  },
  {
   "cell_type": "code",
   "execution_count": 17,
   "metadata": {},
   "outputs": [
    {
     "name": "stdout",
     "output_type": "stream",
     "text": [
      "              precision    recall  f1-score   support\n",
      "\n",
      "         ham       0.78      0.76      0.77       402\n",
      "        spam       0.91      0.92      0.91      1041\n",
      "\n",
      "    accuracy                           0.87      1443\n",
      "   macro avg       0.84      0.84      0.84      1443\n",
      "weighted avg       0.87      0.87      0.87      1443\n",
      "\n"
     ]
    }
   ],
   "source": [
    "print(classification_report(y_test, y_pred, target_names=['ham', 'spam']))"
   ]
  },
  {
   "cell_type": "markdown",
   "metadata": {},
   "source": [
    "I played around with a few things to improve the accuracy:\n",
    "    \n",
    "* lower case - **significant improvement**\n",
    "* stemming\n",
    "* nltk twitter specific tokenizer\n",
    "* removing stop words\n",
    "* removing numbers\n",
    "* ngrams\n",
    "* character grams\n",
    "* removing priors - **significant improvement**\n",
    "* removing low frequency words - **significant improvement**\n",
    "* differnt SKLearn naive bayes classifiers\n",
    "\n",
    "<hr>\n",
    "\n",
    "To avoid me having to refer back to wikipedia:\n",
    "* **precision** percentage classed as spam (ham) that are spam (ham)\n",
    "* **recall** percentage of spam (ham) that are classed as spam (ham)\n"
   ]
  },
  {
   "cell_type": "code",
   "execution_count": null,
   "metadata": {},
   "outputs": [],
   "source": []
  },
  {
   "cell_type": "markdown",
   "metadata": {},
   "source": [
    "## Look at the top features/words with the biggest impact\n",
    "\n",
    "The values are the log conditional proability P(word|spam) after laplace smoothing.\n",
    "\n",
    "Larger negative numbers mean lower probability it is spam.\n",
    "\n",
    "\n",
    "Looking at this identified that stop words were high predictors of spam.\n",
    "\n",
    "This may be because spam is more likely to have proper sentences.\n",
    "\n",
    "Although it didn't impact the accuracy much I still decided to remove stop words during tokenization. More work could be done evaluating the high impact features.\n",
    "\n",
    "\n",
    "We can see some words that we would expect to be in spam eg $, looking, free."
   ]
  },
  {
   "cell_type": "code",
   "execution_count": 18,
   "metadata": {},
   "outputs": [],
   "source": [
    "def show_most_informative_features(vectorizer, clf, n=20):\n",
    "    feature_names = vectorizer.get_feature_names()\n",
    "    coefs_with_fns = sorted(zip(clf.coef_[0], feature_names))\n",
    "    top = zip(coefs_with_fns[:n], coefs_with_fns[:-(n + 1):-1])\n",
    "    print(f'{\"support ham\":30} {\"support spam\":30}')\n",
    "    print()\n",
    "    for (coef_1, fn_1), (coef_2, fn_2) in top:\n",
    "        print(f'{coef_1:10.2f} {fn_1:20} {coef_2:10.2f} {fn_2:20}')"
   ]
  },
  {
   "cell_type": "code",
   "execution_count": 19,
   "metadata": {},
   "outputs": [
    {
     "name": "stdout",
     "output_type": "stream",
     "text": [
      "support ham                    support spam                  \n",
      "\n",
      "    -12.07 abortion                  -3.05 .                   \n",
      "    -12.07 anal                      -3.18 !                   \n",
      "    -12.07 anger                     -3.20 ,                   \n",
      "    -12.07 angry                     -3.94 ’                   \n",
      "    -12.07 annoyed                   -4.35 :                   \n",
      "    -12.07 bisexual                  -4.45 $                   \n",
      "    -12.07 blocked                   -4.51 ?                   \n",
      "    -12.07 cannabis                  -4.75 )                   \n",
      "    -12.07 cheated                   -4.85 (                   \n",
      "    -12.07 disgusting                -5.03 &                   \n",
      "    -12.07 dumb                      -5.14 https               \n",
      "    -12.07 frustrating               -5.19 get                 \n",
      "    -12.07 fuck                      -5.22 free                \n",
      "    -12.07 fucked                    -5.27 baby                \n",
      "    -12.07 lesbian                   -5.28 home                \n",
      "    -12.07 marijuana                 -5.29 would               \n",
      "    -12.07 miserable                 -5.34 please              \n",
      "    -12.07 opinion                   -5.37 new                 \n",
      "    -12.07 poop                      -5.38 like                \n",
      "    -12.07 porn                      -5.38 looking             \n",
      "    -12.07 pushed                    -5.40 help                \n",
      "    -12.07 smoked                    -5.42 interested          \n",
      "    -12.07 society                   -5.46 need                \n",
      "    -12.07 suicidal                  -5.49 time                \n",
      "    -12.07 threesome                 -5.49 know                \n",
      "    -12.07 tmi                       -5.51 's                  \n",
      "    -12.07 venting                   -5.57 anyone              \n",
      "    -12.07 wtf                       -5.59 work                \n",
      "    -11.38 420                       -5.64 want                \n",
      "    -11.38 acting                    -5.64 make                \n"
     ]
    }
   ],
   "source": [
    "show_most_informative_features(vectorizer, classifier, 30)"
   ]
  },
  {
   "cell_type": "code",
   "execution_count": null,
   "metadata": {},
   "outputs": [],
   "source": []
  },
  {
   "cell_type": "markdown",
   "metadata": {},
   "source": [
    "## Spot check text where the model failed\n",
    "\n",
    "One key thing that stood out is that many of the ham posts that are classified as spam appear to have text from a commercial/advert like offering. But the post itself is not spam.\n",
    "\n",
    "\n",
    "I tried cutting post after the first N words. This didn't increase accuracy.\n",
    "\n",
    "\n",
    "Possibly some kind of weighting towards words near the begining would help with this. Or a score for the user based on previous posts.\n",
    "\n"
   ]
  },
  {
   "cell_type": "code",
   "execution_count": 20,
   "metadata": {},
   "outputs": [
    {
     "name": "stdout",
     "output_type": "stream",
     "text": [
      "6\n",
      "Formula samples/coupons I have samples and coupons for similac formula. Does any momma on here need any? I'd be happy to mail it to you! milac FongMoms EWARDS OW SAVE GROW 3 easy steps to FREE Similac! Look inside for savings coupons good toward any Similac product And check your mail for more coming soon. SAVE $5 FREE Similac 1 2 USE COUPONS 3 Use your Similac coupons (We've included some inside) EARN POINTS Earn 5 points for every coupon you use. Points add up and rewards sent automatically GET SIMILAC Reach 35 points and get FREE Similae. Sign up for additional savings and tips at Similac.com/Email-Signup. Enter your membership ID found in the enclosed \"save\" envelope. FRE Sme omes Forem d nd Pet by S grem m e OptiGRO Cm N r r Bdry's Fiest Yer MAX-BASED LPONDE Infant Formula EW Similac HMO For IMMUNE SUPPORT sen ae dnt OptiGRO with Iran Memaciad PRO-ADVANCE NET T 584 NON-GMO Ing essly cep FAbbots Complete Nutrion for Your lainys First Vear ide MLK-SASED POWDER Similac Infant Formula HMO a decae For IMMUNE SUPPORT with Iron NEW! PRO ADVANCE NON Abbott NON-GMO grdu int d optiGRO Aubott Compiete Nutriion for Your Baby's Fiest Yoar Simi MEK-BASED POWDER VTA és DHA Similac Infant Formula with Iron HMO PRO-ADVA n нмо For IMMUNE SUPPORT ar UNE PRO-ARVANCE Abbost ur OptiGRo NON-GMO Ingelins nt aialy mnd optiGa Complete Nutriion: POWOER MLBA ive TM for Your Baby's First Vur MILK BASED POWDER ТHA Similac Нмо Infant Formula For IMHUNE SUPPORT yy ud na cherte with Iron PRO-ADVANCE NET WT 0.58 02 18.4 g) For more information, visit Similac.com/HMO NON-GMO SAMPLE Similac Infant Formula Similac P0-SENSITIVE a Formila with ko Abott Similac PRO-ADVANCE HMO SUPPORT EWT02(227 \n",
      "------\n",
      "\n",
      "27\n",
      "Maternity photos Hey mamas, I’m looking for ideas for maternity photos so comment your favorite maternity pictures of yourself or even just a maternity picture you really love. If anyone knows any great maternity photographers in San Antonio, Texas let me know! Has anyone tried take maternity pictures themselves/ with help of a friend how do you feel they turned out?\n",
      "------\n",
      "\n",
      "54\n",
      "Job fair Ur welcome Florida yG 60%4:03 PM JobNewsUSA.com JOB FAIR Wednesday, October 24th, 2018 1 10am-2pm Prime Osborn Con vention Center (Downtown) 1000 Water Street, Jacksonville, FL 32204 Our Sponsor: In Partnership With: CareerSource Que talACKSONVILLE NORTHEAST FLORIDA Companies Attending CSA YECHNICAL AISTITUTE BROOKDALE SColonial Life ONCORDEDeVry University UVAL COUNTY HEALTHCARE GAS GOODWMLHENRY SCHEIN MASSEY ERC FANATICS LEADERQUEST I u d OF NOeHOA STRAYER UFHealth Walgreens Web.com ovation CNDIT SERVICES lendingtree REPUBLIC SERVICES UNIVERSITY UNIVERSITY OF FoRIDA EAL Ally Financial Brookdale Cypress Village CareerSource Northeast Strayer University Student Transportation of America UF Health CNS Healthcare Colonial Life Concorde Career College DeVry University Duval County Public Schools Enhanced Resource Centers Goodwill Industries of North Florida Henry Schein LeaderQuest Massey Services Ovation Credit Services Que' tal Jacksonville Florida CDA Technical Institute City of Jacksonville Military Affairs Walgreens Web.com Fanatics G4S Secure Solutions Republic Services Hundreds of Jobs Available Including: Manager and Supervisor Opportunities, Customer Service Representatives, Collections Associates, Outside and Inside Sales Representatives, Sales Managers, Bilingual Call Center Representatives, Retail Associates, Retail Managers, Pharmacy Tech, School Safety Assistant Teachers, Paraprofessionals, Security Officers, School Bus Drivers, Manager Trainee, Customer Service (Case Advisors), Sales - Credit Analysts, Drivers CDL B, Diesel Mechanics, Operations Supervisors, General Labor/ Route Helper, Heavy Equipment Operators, Licensed Insurance Agents, Career Training Consultant, Technical Instructor, Warehouse Associates, Material Handlers, E-commerce, Maintenance Technicians, CNAS, RNs, LPNS, Housekeeping, Food Service Team Members, Night Shift Seasonal Fan Advocate, Seasonal HR Administrator, Seasonal Janitor, Seasonal Fan Advocate, Payroll Specialist, Jr. File Processing Admin, Risk Mitigation Analyst, Payment Processor Proud to .Support our Troops AVOID THE LINES! Log on today at JobNewsUSA.com to pre-register for this great event. Booth Space still available. Call at (904) 296-3006 for more information. Parking and Admission are FREE Dress Professionally and Bring Plenty of Resumes! Free computer lab for applying to positions online, researching companies and printing resumes. JOBNEWS USA.com Not able to attend this event? Visit www.jobnewsusa.com for information about additional job opportunities and our 2019 recruiting events. \n",
      "------\n",
      "\n",
      "99\n",
      "Christmas event San Bernardino! Hey Mommas I know Christmas can be heard on the pockets and who doesn’t love a great Christmas event. Come join me at a Christmas event hosted by my husbands motorcycle club! There will be free food games raffle as well as a free toy for every kid that attends. Feel free to message me for more info or questions. I look forward to seeing you mammas there!!! X Meme SATURDAY DECEMBER 15TH 2018 10AM TO 4PM Inland Empire Motorcycle A Association ΙΕΜΑ IEMA 4TH ANNUAL TOY GIVEAWAY HOSTED BY MeVal Deuces G SABDATH CARIA CA FIRST CALIFORMA Knodk It Off Regulaters Ladies SC 210 MC Ropal Aces RCmC Great Pride MC 272 S MOUNTAIN VIEW AVE, SAN BERNARDINO, CA 92408 FREE FOOD AND GAMES FREE RAFFLE FOR KIDS ALL KIDS PRESENT WILL :GET A TOY ALL CHILDREN MUST BE PRESENT TO RECIEVE FREE TOYS \n",
      "------\n",
      "\n",
      "249\n",
      "Spa day? Hello ladies! Who is up for an awesome spa day that costs $25 for admission? With the option to get a massage or facial or just to spend the day relaxing! I go to this place often but my best friend that goes with me just moved to Germany and I’d love some new spa buddies! Here is the link, message me if you would be interested! 🥰 http://irvinespa.com 11:11 irvinespa.com ABOUT US ENTERTAINMENT NEWS SERVICES GALLERY SERVICES>> SERVICE AREA Irvine SPA Menu Service for women Description Service Time Rate $45 Body Scrub 35Min Relax and rejuvenate your body with a our full body scrub. This time honored exfoliation process removes dead skin cells, leaving your skin conditioned and hydrated allowing for a much softer and smoother appearance. +Admission fee $85 Body Scrub 70Min Combine the rejuvenate benefit of our full body scrub with our body massage. The use of natural mineral oil and a freshly prepared cucumber mask clear the mind. Let this process decrease your stress, toxins, and your skin soft and smooth. & Massage $120 Body Scrub 90Min A Korean traditional combines the rejuvenate benefit of our full body scrub with the scents of aroma products. Relax your & Aroma Massage senses and decrease your stress while allowing for much better blood circulation. Your skin will never feel softer and you will feel alive and healthy. 90Min $120 Body Scrub A Korean traditional combines the rejuvenate benefit of our full body scrub with the aroma products & coconut oil products. Relax your senses and decrease your stress while allowing for much better blood circulation. Your skin will never feel softer and you will feel alive and healthy. & Coconut Oil Massage 110Min $140 Body Scrub This is the Irvine SPA exclusive. Combining our full body scrub and full body massage using aroma products. We will wrap your body using a mineral gold body gel. This process will calm your skin and redefine it with nutrients. The final application of a cucumber and collagen pack along with hair essence will leave you ready for the rest of your day. & Gold Massage Body Scrub 110Min $140 This is the Irvine SPA exclusive. Combining our full body scrub and full body massage using aroma products.. We will wrap your body using a seaweed body gel. This process will calm your skin and redefine it with nutrients. The final application of a cucumber and collagen pack along with hair essence will leave you ready for the rest of your day. & Seaweed Massage $75 Acupressure 60Min Relax your mind and body while revitalizing your system. This classic treatment increases blood circulation disposing the body of toxins leaving you energized. The relief and tension in your head, neck, and shoulders are stress relievers that your body will thanks you for. (shiatsu) Oil Massage (swedish massage) 60Min $85 Using natural oils and Swedish massage, this full body treatment relaxes you to the core. As tension is released from your head, neck, and shoulders you will find yourself refreshed and energized. $115 Combination 9MIN Combination our traditional acupressure and our Swedish massage is ultimate process to relaxation. Your body will be refreshed and rejuvenated as the aches and pains caused by (Acupressure Oil massage) tension and stress are released. \n",
      "------\n",
      "\n",
      "340\n",
      "I need friends!! I’d really like to have someone I can talk to about other things besides just PJ Masks and Mickey Mouse 😂 Best Friend Application Directions: Answer all questiens honestly and truthfully Last Name: First Name: Middle Name: Nicknames: Best Five Qualities: Favorite Color Hot Brothers Yes No Do you like spicy food? Yes No. What is the earliest or latest you will accept phone calls? Earliest Latest Specify Top 5 Favorites Bands: 5 1 2. 3. 4 Songs 2 3 1. 4. S. Movies 4 1 2. 3. 5. Books: 1 2. 3. 4. 5. Foods 2 4 1 3. S. TV Shows 4 1 2 3. 5. On a scale of 1 10, how weird would you say you are? 1 2 3 4 9 10 1 Circle one choice in each Winter or Summer Vanilla or Chocolate Dogs or Cats Flying or Driving Coffee or Oj Breakfast Dinner or Beach or Heels or Pool Cames or Rides Sneakers Morning or Night Pinterest or Twitter Books or Movies |Мас Windows Youtube or Instagram or Comedy or Horror or Brains Coke or Pepsi Beauty Do you drive? YN Do you do drugs? Yes No if yes, what kind of drugs Criminal history? Yes No Middle Crust/Edge N or Do you drink? Y Do you smoke? Y N if yes, write a 200 word essay explaining in full detail the incident incidents. Do you like chocolate? YN \n",
      "------\n",
      "\n",
      "343\n",
      "Thursday! Uh oh you might just catch me at Urban Air Pearland on Thursday. My girls will love this! 10:39 66% Inbox GLOW Easter Egg Hunt Thursday at Pearland Urban Air $19.99 GLOW Easter Value $28 Discount Savings $8 29% EGG HUNT uBAN A View Offer What We're Offering Thursday, April 18th Urban Air Introduces our first ever... GLOW Easter Egg Hunt! One LUCKY EGG will include a FREE BIRTHDAY PARTY! Plus lots of other FUN prizes - not just candy! Join us on Thursday, April 18 from 4:00 to 8:00pm with THE HUNT starting at 7pm! Find some wildly awesome prizes in our Glow Easter Egg Hunt! In addition to participation in the Glow Easter Egg Hunt, you get: . Ultimate Attractions! A Slice of Pizza! *Egg Hunt for All Under 13 Photos with The Easter Bunny! NOTE: URBAN AIR WILL BE CLOSED ON EASTER SUNDAY Urban Air Adventure Park 3207 South Sam Houston Pearland, Texas Pkwy East Suite 200 281-206-4681 Houston, TX 77047 urbanairpearland.com info@urbanairpearland.com Powered by FetchRev This email was created by FetchRev on behalf of the Urban Air Adventure Park- Pearland, Texas (Located at: 3207 South Sam Houston Pkwy East, Suite 200, Houston, TX, 77047) Please review our Privacy Policy. Unsubscribe to stop receiving this email. \n",
      "------\n",
      "\n",
      "384\n",
      "Are there any other Redondo Beach MVPs in this group? I’d love to meet up. I have a 5 month old baby boy. I’ll be taking this class starting the end of June: https://www.tinkergarten.com/rc/alphaa5532\n",
      "------\n",
      "\n",
      "574\n",
      "Washington Good Neighbor Days 2019 Washington Good Neighbor Days runs through Sunday. You can visit the Washington Chamber of Commerce website for a complete list of events! We may go this evening depending on the weather. Get out and enjoy some fresh air with your kiddos! 👍🏼👌🏼☀️🎪🎡🎠 WEDNESDAY THANK YOU! Oh What a Beautiful Baby! Photo Contest Entry drop off dates are now through May 17. Bring two copies of your photo to Heartand Bank and Trust Company, Voting will be held May 20-30 at both Heartland Bank and Trust Company Washington locations during regular hours anly. May 31 voting will be at he Beautiful Baby Booth in the Merchants Tent. Voting will end on May 31. Winner will be amounced Saturday, June 1 after Kidz Got Talent on the CEFCU Stage. Entries must be 2 years olid or younger and reside within the 61571 zip code. Winner will receive $50.00 Carnival ..6:00 10:00 p.m Provided by Wilson's Family Shows. Concessions... .. .5:00-10:00 p.m. Provided by various food vendors. TO OUR 2019 SPONSORS Washingfon GoodNeighbor CEFCU ILLINOIS EYE CENTER FAMILY MOVIE NIGHT Family Movie Night.. 8:30-10:00 p.m Join us towatch The Secret Life of Pets on Festval Grounds Days Not a bank. Better. MAY 29-JUNE 2, 2019 THURSDAY in chamber checks Community Pancake Breakfast - Sat. June 1 The Washington Rotary Club will host a community pancake breakfast on Saturday, June 1st from 7:30-10:30 am. at Washington High School. Advance tickets can be purchased fom any Washington Rotary Member, the Washington Park District Office on Spruce Street, or the Chamber Office. Camival Provided by Wilson's Family Shows. Armband Night from 6:00-10:00 p.m Uhimited rides for $25.00! Concessions..... . 5:00-10:00 p.m. Provided by various food vendors. Jr. Firefighter Challenge.... . .6:00-8:00 pm. Children kindergarten-3rd grade can participate in an obstacle course wth safety trailer, sop, drop and roll and dummy drag Experience a local hero moment. Good Neighbor Award Presented .. ..9:30 p.m. Who will be awarded the 2019 Good Neighbor Award? Nomination forms are available at washingtoncoc.com and .5:00-10:00 p.m. Located on John Bearce Companies Property 1800 Washington Road, Washington, L 61571 CHEVY ASHINGTON Washington Ml- Community Vank Heartland Bank Compay Good Neighbor Days 5K Run/1 Mile Walk The Washington Park Distict is again hosting the Good Neighbor Days 5K Run/1 Mle Walk and Kids Fun Run on Saturday, June 1st. Races starts at Five Points Washington. To register visit goodneighbordays5k.com Presented by CEFCU Busey W WASHINGTON STATE BANK accepted until May 10th Early Armband Sales Not a bank. Better. BUSEY BANK CHRISTIAN CONCERT NIGHT To Be Announced... .......6:00-8:00 p.m. Located on the CEFCU Main Stage. Providing praise band Christian music you won't want to miss. MMY Armbands can be purchased at the Chamber Office May 20 thru 24. They wil be available Monday- Thursday from 9:00 a.m-8:00 p.m. and Friday from 9:00 am -6:00 p.m Advance armbands will be on sale for $20.00, A $5.00 SAVINGS! They can stll be purchased the night of for $25.00. The MEGA-Band is back! These are good for the duration of the Fesfval These wil be available for $60.00 pre-sale and $65.00 ater. JJ conneCT (ROCOR WASHINGTON COMMUNITY BANK COMMUNITY NIGHT Community Night Dinner.. ..5:30-7:30 p.m. Located in the Food Tent. Countryside Chicken Dinners will be served! Pre-ourchase ticke ts for carry out at Washington Community Bank starting on May 13th. Cary out fickets can only be purchased in advance, however dine-in meals can be purchased ahead of time or on site. Community Showcase...... .6:00-8:00 p.m. Located in the Community Tent. Visit local not-for-profits and leam about upcoming community events. COUNTRY TimbukTech YOUR TECHNOLOGY PARTNER FrBins s WASHINGTON Par Ss-Agre CHAMBER OF COMeERCE WASHINGTON CHIROPRACTIC 3 &LELECTRIC Ground's Information For more information, wisit the WCOC Information Booth Events and fmes are subject to change. Free Parking on site. Mobile ATM provided by Washington Community Bank Pets are not allowed on he grounds Diaper changing facilities are available and provided by the Washington Christian Church Circle of Friends Smoking and vaping is prohibited on Festival Grounds digiMAX Wachington Details induded in this brochure are subject to change without prior notice. FIBER internet tv voice JIMMY JOHNS GOURMET SANDWICHES FESTIVAL GARDEN Doors Open.. Nick Sizemore Acoustic Classic Country. Last Call ILLINOIS eye .5:00 p.m 8:00-10:00 p.m. CENTER Your Vision Empowered i'mlovin' it 10:00 p.m MARTIN SULLIVAN John Bence KIWANIS OF WASHINGTON CUTEST PET CONTEST FRIDAY SATURDAY SATURDAY Think you have the cutest pet in Washington? Enter them to win the Kiwanis Club of Washington Pet Contest. For details visit gogophotocontest.com/ kiwanisclubwashingtbn illin ois. Winer will be announced on June 1st at 6:30 pm. at Washingbn Good Neighbor Days Fairgrounds. Concessions... Provided by various fbod vendors Carnival.. . .. 4:00-10:00 pm Provided by Wilson's Family Show. 1:00-10:00 pm CEFCU STAGE ENTERTAINMENT Rotary Breakfast... .7:30-10:30 am. Fresh pancakes and sausage! Located at Washington Community High School. Alproceeds will be donated o the Washington Fire Department for Life Saving Equipment 5KRun/1 Mile Walk.. ... 7:30 am Race starts at Five Points Washington. Toregister visit www.goodneighbordays5k.com Kids Fun Run Race starts at Five Points Washington. Toregister visit www.goodneighbordays5k.com Carnival . .10:00 am. 10:00 p.m Provided by Wilson's Family Shows. Armband Day fom 10:00 am.-4:00 p.m. Unimited rides for $25.00. Concessions. 11:00 am. 10:00 p.m. Provided by local food vendors Pie Eating Contest..... Pies Donated by LeBakery on the Square. Register at 10:30 am ..2:00-3:30 p.m. WASH INGT ON STATE BANK MERCHANTS TENT MCDONALD'S KIDZ GOT TALENT Merchants Tent... .. .1:00-8:00 p.m Visit various local busine sses' trade show booths TIMBUKT ECH VOLUNTEER CHALLENGE Kidz Got Talent... .. 4:00-6:00 p.m. Talent show and competition featuring local talented kids. Have a group that loves to spend time volunteering together? Do we have the challenge for you! Get your organization together and volunteer for multiple shifts to make your group be the winner of our third annual Volunteer Chalenge! All you have to do is specify which group you want your volunteer haurs to count bwards, show up for your shift and have fun while being a part of Good Neighbor Days. The winning organization of the Volunteer Challenge will be given a donation to the charity or organizafon of their choosing. Sponsoar ed by Timbuk Tech Hasmat be fy dumtad) 9:00 am HEARTLAND BANK AND TRUST FAMILY NIGHT CONN ECT YOUTH TEEN NIGHT 200-4:00 p..m. Senior Bingo Sponsored by Was hingt on Christian Village. In the Community Tent Open to ages 50 and up. Toddler Town... . . 5:00-8:00 pm Sponsored by Country Financial Pat Sams. Must be 5 years of age and under. Must have adult supervision. $5.00 perchild for unimited access to infatables and more provided by Wilson Family Shows Game On Peoria .5:00-9:00 pm Stop by for a dimate controlled gaming experience at no charge. Game On is fun for Everyone. Sporting 3 Xbox One consoles, 3Playstation 4 consoles and a gaming expert Knockerball Experience.. ..6:00-8:30 pm. Located on Fesfival Grounds just north of Toddler Town Free! Thanks to Heartand Bank and Trust Company. Teen Night... .. 5:00-9:00 pm. Located inside the Community Tent. A great atmosphere in he tent, and teens are encouraged to come and go and connect with friends. Listen to some good music, lounge around, enjoy free drinks. Free phone charging stafions Award Winners Announced.... .6:00 p.m. Kidz Got Talent Beautiful Baby and Cute st Pet winners announced. Aileeah Colgan.. .6:30-8:30 p.m Combines herlove for traditional country with today's soufu pop songwriters to create songs that are rooted in country values and twang, with percussive rhythm and soul. WASHING TO N CHIR OPRACTIC FAMILY BIKE RIDE Family Bike Ride... ..11:00 am. 1:00 p.m. Registrafon begins at 10:30 am. on Mt Vemon Steet Goodie bags to first 100 families. Both the 2 mile and 6 mle rides start and end on Mt Vemon Street. MTCO DIGIMAX FIBER MEDALLION HUNT The hunt starts at 11:30 am. on May 27th and runs until the Medalion is found! The clues will be posted on the Washingbn Good Neighbor Days Faceb0ok Page at 2:30 p.m.each day. The Medalion wil be found on non- residental property, wihin or contiguous to city boundaries or owned by a Washingbn public body. For more rules, visit washingtoncoc.com Happy Hunting! Sponsored by MTCO digimax fber WASHINGTON STATE BANK MERCHANTS TENT Merchants Tent..... 11:00 am.-6:00 p.m. WILSON FAMILY SHOWS FIREWORKS Visit various local businesses rade show booths. Fireworks.. .9:30 p.m. Provided by Central States Fireworks. Connect Church will be on hand to hand out glowsticks. CE FCU STAGE ENTERTAINMENT Vision Screening... 11:30 am. 1:30 p.m Hosted by Washington Lions Club. Located next to Kiddie Tractor Pull. For ages 6 months to 24 years. Kiddie Tractor Pul... Hosted by Washington Lions Club. Located on blacktop between Midway &festival grounds Register at 11:30 am. Age groups for 3-Aduit. Prizes for all Julie K... . Come jam with the award winning children's artist The Little Ryman Opry Band.. ..6:30-8:00 p.m A country band based out of Morton, IL. Playing dassic to current country favorites. ...5:15-6:00 p.m JIMMY JOHN'S GOURMET SANDWICHES FESTIVAL GARDEN .Noon-1:30 p.m. Doors Open.... . 00 pm. Nick Sizemore and the Saddletramps...8:30-11:30 p.m GET IN THE GROUVE WITH THE CHAMBER Grouve is a photo and video sharing app that the Washington Chamber of Commerce will be using for Good Neighbor Days 2019. Follow these steps b participate! 1. Dowrload \"grouve trom the App Store or Google Play 2. Sign up for an account 3. Click join a grouve and enter the code \"GOOD19 4. Take photos and videos! Playing American honky tonk. Last Call... 11:30 p.m. UFTRING CHEVY WASHING TON FIREWORKS sdno6 e6e Petting Zoo.... Provided by Bamyard Discoveries. Stop in tb pet and feed he animals .100-7:00 p.m Fireworks.. 930 p.m. Provided by Central States Fireworks. Connect Church will be on the grounds handing out glowsticks for the fireworks SUNDAY ROCOR INDUST RIES CHILD REN'S EVENTS Thank you for your help as we expand our photo bank for Good Neighbor Days to be used in future marketing pieces! JIMMY JOHN'S GOURMET SANDWICHES FES TIVAL GARDEN COLT ON'S LEGACY FOUNDATION DAY Carnival.. .. ..11:00 am. -5:00 pm Provided by Wilson Family Shows. A portion of the proceeds from the camival wil be donated to Colton Underwood's Legacy Foundation. Concessions.. ...11:00 am.-5:00 p.m. Provided by local food vendors. Crafts and Activities.... .. .1:00-4:00 p.m. Staffed by Connect Kids Locatedin the Community Tent Doors Open Harvest Sons. 5:00 p.m . 8:00-11:00 p.m A six member Midwest altemative bandplaying washed PONY RIDES out folk-county based out of Peoria, IL Join us for pony rides on the grounds Thursday- Saturday weather permiting. Beard and Mustache Competition... .Throughout the Night 11:30 p.m Last Call. \n",
      "------\n",
      "\n",
      "675\n",
      "Hello! I felt we needed a group for moms who Thrive to get together and discuss. I couldn’t find one so I made one!!\n",
      "------\n",
      "\n"
     ]
    }
   ],
   "source": [
    "counter = 0\n",
    "\n",
    "for i, row in df.iterrows():\n",
    "\n",
    "    if row.dataset != 'TEST': continue # filter foe test data\n",
    "    \n",
    "    if row.target != 0: continue # filter for spam or ham only. Set as 1 for spam; 0 for ham\n",
    "    \n",
    "    # get the prediction\n",
    "    X_test = vectorizer.transform([row.text])\n",
    "    y_pred = classifier.predict(X_test)\n",
    "    \n",
    "    if y_pred[0] == row.target: continue # filter for where we got it wrong\n",
    "\n",
    "    print(i)\n",
    "    print(row.text, end='\\n------\\n\\n') # print post that was misclassified\n",
    "\n",
    "    counter += 1\n",
    "    \n",
    "    if counter == 10: break"
   ]
  },
  {
   "cell_type": "code",
   "execution_count": null,
   "metadata": {},
   "outputs": [],
   "source": []
  },
  {
   "cell_type": "code",
   "execution_count": null,
   "metadata": {},
   "outputs": [],
   "source": []
  },
  {
   "cell_type": "markdown",
   "metadata": {},
   "source": [
    "## Evaluate the final model on the validation data"
   ]
  },
  {
   "cell_type": "code",
   "execution_count": 21,
   "metadata": {},
   "outputs": [],
   "source": [
    "X_validate = vectorizer.transform(validate_text)\n",
    "y_pred_v = classifier.predict(X_validate)"
   ]
  },
  {
   "cell_type": "code",
   "execution_count": 22,
   "metadata": {},
   "outputs": [
    {
     "name": "stdout",
     "output_type": "stream",
     "text": [
      "              precision    recall  f1-score   support\n",
      "\n",
      "           0       0.77      0.74      0.76       200\n",
      "           1       0.90      0.91      0.90       486\n",
      "\n",
      "    accuracy                           0.86       686\n",
      "   macro avg       0.83      0.83      0.83       686\n",
      "weighted avg       0.86      0.86      0.86       686\n",
      "\n"
     ]
    }
   ],
   "source": [
    "print(classification_report(y_validate, y_pred_v))#, target_names=target_names))"
   ]
  },
  {
   "cell_type": "code",
   "execution_count": null,
   "metadata": {},
   "outputs": [],
   "source": []
  },
  {
   "cell_type": "markdown",
   "metadata": {},
   "source": [
    "## Save the models to be used by api"
   ]
  },
  {
   "cell_type": "code",
   "execution_count": 23,
   "metadata": {},
   "outputs": [],
   "source": [
    "import pickle"
   ]
  },
  {
   "cell_type": "code",
   "execution_count": 24,
   "metadata": {},
   "outputs": [],
   "source": [
    "with open('models/vectorizer.pkl', 'wb') as output:  # Overwrites any existing file.\n",
    "        pickle.dump(vectorizer, output, pickle.HIGHEST_PROTOCOL)"
   ]
  },
  {
   "cell_type": "code",
   "execution_count": 25,
   "metadata": {},
   "outputs": [],
   "source": [
    "with open('models/classifier.pkl', 'wb') as output:  # Overwrites any existing file.\n",
    "        pickle.dump(classifier, output, pickle.HIGHEST_PROTOCOL)"
   ]
  },
  {
   "cell_type": "code",
   "execution_count": 26,
   "metadata": {},
   "outputs": [],
   "source": [
    "with open('models/doc_frequency_dict.pkl', 'wb') as output:  # Overwrites any existing file.\n",
    "        pickle.dump(doc_frequency, output, pickle.HIGHEST_PROTOCOL)"
   ]
  },
  {
   "cell_type": "code",
   "execution_count": null,
   "metadata": {},
   "outputs": [],
   "source": []
  }
 ],
 "metadata": {
  "kernelspec": {
   "display_name": "venv_peanut",
   "language": "python",
   "name": "venv_peanut"
  },
  "language_info": {
   "codemirror_mode": {
    "name": "ipython",
    "version": 3
   },
   "file_extension": ".py",
   "mimetype": "text/x-python",
   "name": "python",
   "nbconvert_exporter": "python",
   "pygments_lexer": "ipython3",
   "version": "3.7.3"
  }
 },
 "nbformat": 4,
 "nbformat_minor": 2
}
